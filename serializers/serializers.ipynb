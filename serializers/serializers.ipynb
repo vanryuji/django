{
  "nbformat": 4,
  "nbformat_minor": 0,
  "metadata": {
    "colab": {
      "name": "serializers.ipynb",
      "version": "0.3.2",
      "provenance": [],
      "toc_visible": true,
      "include_colab_link": true
    },
    "kernelspec": {
      "name": "python3",
      "display_name": "Python 3"
    }
  },
  "cells": [
    {
      "cell_type": "markdown",
      "metadata": {
        "id": "view-in-github",
        "colab_type": "text"
      },
      "source": [
        "<a href=\"https://colab.research.google.com/github/vanryuji/django/blob/master/serializers/serializers.ipynb\" target=\"_parent\"><img src=\"https://colab.research.google.com/assets/colab-badge.svg\" alt=\"Open In Colab\"/></a>"
      ]
    },
    {
      "cell_type": "code",
      "metadata": {
        "id": "Pjl819WszqxA",
        "colab_type": "code",
        "outputId": "6909e82e-bc8a-4f47-b7c3-31efd0d393b3",
        "colab": {
          "base_uri": "https://localhost:8080/",
          "height": 102
        }
      },
      "source": [
        "!pip install djangorestframework psycopg2-binary\n",
        "!pip list | grep djangorestframework\n",
        "!pip list | grep Django\n",
        "!python --version"
      ],
      "execution_count": 0,
      "outputs": [
        {
          "output_type": "stream",
          "text": [
            "Requirement already satisfied: djangorestframework in /usr/local/lib/python3.6/dist-packages (3.9.4)\n",
            "Requirement already satisfied: psycopg2-binary in /usr/local/lib/python3.6/dist-packages (2.8.3)\n",
            "djangorestframework      3.9.4                \n",
            "Django                   2.2.2                \n",
            "Python 3.6.7\n"
          ],
          "name": "stdout"
        }
      ]
    },
    {
      "cell_type": "code",
      "metadata": {
        "id": "TB-J-3Mxy7qk",
        "colab_type": "code",
        "colab": {}
      },
      "source": [
        "from django.conf import settings\n",
        "'''\n",
        "When you use Django, you have to tell it which settings you’re using. Do this by using an environment variable, DJANGO_SETTINGS_MODULE.\n",
        "A settings file is just a Python module with module-level variables.\n",
        "\n",
        "In some cases, you might want to bypass the DJANGO_SETTINGS_MODULE environment variable. For example, if you’re using the template system by itself, you likely don’t want to have to set up an environment variable pointing to a settings module.\n",
        "In these cases, you can configure Django’s settings manually. Do below code by calling:\n",
        "\n",
        "refer : https://docs.djangoproject.com/en/2.2/topics/settings/#using-settings-without-setting-django-settings-module\n",
        "'''\n",
        "settings.configure(DEBUG=True)\n",
        "\n",
        "import io\n",
        "from rest_framework.parsers import JSONParser\n",
        "from datetime import datetime\n",
        "from rest_framework import serializers\n",
        "from rest_framework.renderers import JSONRenderer"
      ],
      "execution_count": 0,
      "outputs": []
    },
    {
      "cell_type": "markdown",
      "metadata": {
        "id": "MFm3GAR_VBBq",
        "colab_type": "text"
      },
      "source": [
        "# Serializing"
      ]
    },
    {
      "cell_type": "code",
      "metadata": {
        "id": "EK20YDQyzFBe",
        "colab_type": "code",
        "outputId": "11154cb5-37c6-408b-ad1b-8e450983a548",
        "colab": {
          "base_uri": "https://localhost:8080/",
          "height": 68
        }
      },
      "source": [
        "### Object -> Python native ###\n",
        "\n",
        "class Comment(object):\n",
        "    def __init__(self, email, content, created=None):\n",
        "        self.email = email\n",
        "        self.content = content\n",
        "        self.created = created or datetime.now()\n",
        "\n",
        "comment = Comment(email='leila@example.com', content='foo bar')\n",
        "print(comment.email)\n",
        "\n",
        "class CommentSerializer(serializers.Serializer):\n",
        "    email = serializers.EmailField()\n",
        "    content = serializers.CharField(max_length=200)\n",
        "    created = serializers.DateTimeField()\n",
        "    \n",
        "    def create(self, validated_data):\n",
        "        return Comment(**validated_data)\n",
        "\n",
        "    def update(self, instance, validated_data):\n",
        "        instance.email = validated_data.get('email', instance.email)\n",
        "        instance.content = validated_data.get('content', instance.content)\n",
        "        instance.created = validated_data.get('created', instance.created)\n",
        "        return instance\n",
        "    \n",
        "serializer = CommentSerializer(comment)\n",
        "print(serializer.data)\n",
        "print(serializer.data['email'])\n"
      ],
      "execution_count": 0,
      "outputs": [
        {
          "output_type": "stream",
          "text": [
            "leila@example.com\n",
            "{'email': 'leila@example.com', 'content': 'foo bar', 'created': '2019-06-20T02:21:20.976864'}\n",
            "leila@example.com\n"
          ],
          "name": "stdout"
        }
      ]
    },
    {
      "cell_type": "code",
      "metadata": {
        "id": "uOjExzdhUuEE",
        "colab_type": "code",
        "outputId": "cc38b9a0-6be4-4191-abaa-740d7895fbd1",
        "colab": {
          "base_uri": "https://localhost:8080/",
          "height": 34
        }
      },
      "source": [
        "### Python native -> JSON ###\n",
        "\n",
        "json = JSONRenderer().render(serializer.data)\n",
        "print(json)"
      ],
      "execution_count": 0,
      "outputs": [
        {
          "output_type": "stream",
          "text": [
            "b'{\"email\":\"leila@example.com\",\"content\":\"foo bar\",\"created\":\"2019-06-20T02:21:20.976864\"}'\n"
          ],
          "name": "stdout"
        }
      ]
    },
    {
      "cell_type": "markdown",
      "metadata": {
        "id": "QT1KhBhwVFgQ",
        "colab_type": "text"
      },
      "source": [
        "# Deserializing"
      ]
    },
    {
      "cell_type": "code",
      "metadata": {
        "id": "IyGUrw-g8dcr",
        "colab_type": "code",
        "outputId": "8e4e47c8-43c9-4d65-ca7e-f2c22ad272fa",
        "colab": {
          "base_uri": "https://localhost:8080/",
          "height": 51
        }
      },
      "source": [
        "### JSON -> Python native ###\n",
        "\n",
        "stream = io.BytesIO(json)\n",
        "data = JSONParser().parse(stream)\n",
        "print(data)\n",
        "print(data['content'])"
      ],
      "execution_count": 0,
      "outputs": [
        {
          "output_type": "stream",
          "text": [
            "{'email': 'leila@example.com', 'content': 'foo bar', 'created': '2019-06-20T02:21:20.976864'}\n",
            "foo bar\n"
          ],
          "name": "stdout"
        }
      ]
    },
    {
      "cell_type": "code",
      "metadata": {
        "id": "QQ6vq2llVWuT",
        "colab_type": "code",
        "outputId": "78aee1da-4dc6-4baa-a4cf-f80c26ac5991",
        "colab": {
          "base_uri": "https://localhost:8080/",
          "height": 68
        }
      },
      "source": [
        "### Python native -> Object (.save() will create a new instance) ###\n",
        "\n",
        "serializer = CommentSerializer(data=data)\n",
        "print(serializer.is_valid())\n",
        "comment1 = serializer.save()\n",
        "print(comment1)\n",
        "print(comment1.email)"
      ],
      "execution_count": 0,
      "outputs": [
        {
          "output_type": "stream",
          "text": [
            "True\n",
            "<__main__.Comment object at 0x7f0accddba58>\n",
            "leila@example.com\n"
          ],
          "name": "stdout"
        }
      ]
    },
    {
      "cell_type": "code",
      "metadata": {
        "id": "NR14XBAOXj9p",
        "colab_type": "code",
        "outputId": "159896b7-ffff-4d13-c888-bf6b1102739d",
        "colab": {
          "base_uri": "https://localhost:8080/",
          "height": 85
        }
      },
      "source": [
        "### Python native -> Object (.save() will update the existing 'comment' instance) ###\n",
        "\n",
        "comment = Comment(email='aaa@aaa.com', content='aaaa')\n",
        "print(comment.email)\n",
        "serializer = CommentSerializer(comment, data=data)\n",
        "print(serializer.is_valid())\n",
        "comment = serializer.save()\n",
        "print(comment)\n",
        "print(comment.email)\n"
      ],
      "execution_count": 0,
      "outputs": [
        {
          "output_type": "stream",
          "text": [
            "aaa@aaa.com\n",
            "True\n",
            "<__main__.Comment object at 0x7f0ad0d7b908>\n",
            "leila@example.com\n"
          ],
          "name": "stdout"
        }
      ]
    },
    {
      "cell_type": "code",
      "metadata": {
        "id": "GjIhLSRWYLKR",
        "colab_type": "code",
        "outputId": "ca70a18f-447d-4feb-a8b7-b55887188818",
        "colab": {
          "base_uri": "https://localhost:8080/",
          "height": 68
        }
      },
      "source": [
        "### Passing additional attributes to .save() ##\n",
        "\n",
        "print(data)\n",
        "serializer = CommentSerializer(data=data)\n",
        "print(serializer.is_valid())\n",
        "comment = serializer.save(email='me@google.com')\n",
        "print(comment.email)"
      ],
      "execution_count": 0,
      "outputs": [
        {
          "output_type": "stream",
          "text": [
            "{'email': 'leila@example.com', 'content': 'foo bar', 'created': '2019-06-20T02:21:20.976864'}\n",
            "True\n",
            "me@google.com\n"
          ],
          "name": "stdout"
        }
      ]
    },
    {
      "cell_type": "markdown",
      "metadata": {
        "id": "ZMCtplkPZzjM",
        "colab_type": "text"
      },
      "source": [
        "# Validation"
      ]
    },
    {
      "cell_type": "code",
      "metadata": {
        "id": "jWIsNr66djBw",
        "colab_type": "code",
        "outputId": "1d7c8e2f-8501-4e69-c31f-6e86fafa9dac",
        "colab": {
          "base_uri": "https://localhost:8080/",
          "height": 368
        }
      },
      "source": [
        "### Field-level validation ###\n",
        "\n",
        "class BlogPostSerializer(serializers.Serializer):\n",
        "    title = serializers.CharField(max_length=100)\n",
        "    content = serializers.CharField()\n",
        "\n",
        "    def validate_title(self, value):\n",
        "        \"\"\"\n",
        "        Check that the blog post is about Django.\n",
        "        \"\"\"\n",
        "        if 'django' not in value.lower():\n",
        "            raise serializers.ValidationError(\"Blog post is not about Django\")\n",
        "        return value\n",
        "\n",
        "# Validation success case\n",
        "blog_post_data = {'title': 'title11_django', 'content': 'content11'}\n",
        "obj = BlogPostSerializer(data=blog_post_data)\n",
        "print(obj.is_valid())\n",
        "\n",
        "# Validation failure case\n",
        "blog_post_data = {'title': 'title11_', 'content': 'content11'}\n",
        "obj = BlogPostSerializer(data=blog_post_data)\n",
        "print(obj.is_valid())\n",
        "print(obj.errors)\n",
        "print(obj.is_valid(raise_exception=True))"
      ],
      "execution_count": 0,
      "outputs": [
        {
          "output_type": "stream",
          "text": [
            "True\n",
            "False\n",
            "{'title': [ErrorDetail(string='Blog post is not about Django', code='invalid')]}\n"
          ],
          "name": "stdout"
        },
        {
          "output_type": "error",
          "ename": "ValidationError",
          "evalue": "ignored",
          "traceback": [
            "\u001b[0;31m---------------------------------------------------------------------------\u001b[0m",
            "\u001b[0;31mValidationError\u001b[0m                           Traceback (most recent call last)",
            "\u001b[0;32m<ipython-input-9-a46214d9c14c>\u001b[0m in \u001b[0;36m<module>\u001b[0;34m()\u001b[0m\n\u001b[1;32m     22\u001b[0m \u001b[0mprint\u001b[0m\u001b[0;34m(\u001b[0m\u001b[0mobj\u001b[0m\u001b[0;34m.\u001b[0m\u001b[0mis_valid\u001b[0m\u001b[0;34m(\u001b[0m\u001b[0;34m)\u001b[0m\u001b[0;34m)\u001b[0m\u001b[0;34m\u001b[0m\u001b[0;34m\u001b[0m\u001b[0m\n\u001b[1;32m     23\u001b[0m \u001b[0mprint\u001b[0m\u001b[0;34m(\u001b[0m\u001b[0mobj\u001b[0m\u001b[0;34m.\u001b[0m\u001b[0merrors\u001b[0m\u001b[0;34m)\u001b[0m\u001b[0;34m\u001b[0m\u001b[0;34m\u001b[0m\u001b[0m\n\u001b[0;32m---> 24\u001b[0;31m \u001b[0mprint\u001b[0m\u001b[0;34m(\u001b[0m\u001b[0mobj\u001b[0m\u001b[0;34m.\u001b[0m\u001b[0mis_valid\u001b[0m\u001b[0;34m(\u001b[0m\u001b[0mraise_exception\u001b[0m\u001b[0;34m=\u001b[0m\u001b[0;32mTrue\u001b[0m\u001b[0;34m)\u001b[0m\u001b[0;34m)\u001b[0m\u001b[0;34m\u001b[0m\u001b[0;34m\u001b[0m\u001b[0m\n\u001b[0m",
            "\u001b[0;32m/usr/local/lib/python3.6/dist-packages/rest_framework/serializers.py\u001b[0m in \u001b[0;36mis_valid\u001b[0;34m(self, raise_exception)\u001b[0m\n\u001b[1;32m    242\u001b[0m \u001b[0;34m\u001b[0m\u001b[0m\n\u001b[1;32m    243\u001b[0m         \u001b[0;32mif\u001b[0m \u001b[0mself\u001b[0m\u001b[0;34m.\u001b[0m\u001b[0m_errors\u001b[0m \u001b[0;32mand\u001b[0m \u001b[0mraise_exception\u001b[0m\u001b[0;34m:\u001b[0m\u001b[0;34m\u001b[0m\u001b[0;34m\u001b[0m\u001b[0m\n\u001b[0;32m--> 244\u001b[0;31m             \u001b[0;32mraise\u001b[0m \u001b[0mValidationError\u001b[0m\u001b[0;34m(\u001b[0m\u001b[0mself\u001b[0m\u001b[0;34m.\u001b[0m\u001b[0merrors\u001b[0m\u001b[0;34m)\u001b[0m\u001b[0;34m\u001b[0m\u001b[0;34m\u001b[0m\u001b[0m\n\u001b[0m\u001b[1;32m    245\u001b[0m \u001b[0;34m\u001b[0m\u001b[0m\n\u001b[1;32m    246\u001b[0m         \u001b[0;32mreturn\u001b[0m \u001b[0;32mnot\u001b[0m \u001b[0mbool\u001b[0m\u001b[0;34m(\u001b[0m\u001b[0mself\u001b[0m\u001b[0;34m.\u001b[0m\u001b[0m_errors\u001b[0m\u001b[0;34m)\u001b[0m\u001b[0;34m\u001b[0m\u001b[0;34m\u001b[0m\u001b[0m\n",
            "\u001b[0;31mValidationError\u001b[0m: {'title': [ErrorDetail(string='Blog post is not about Django', code='invalid')]}"
          ]
        }
      ]
    },
    {
      "cell_type": "code",
      "metadata": {
        "id": "qqgA31unZ2AX",
        "colab_type": "code",
        "outputId": "5cf394f0-bf91-4e34-8b99-495f2c603c73",
        "colab": {
          "base_uri": "https://localhost:8080/",
          "height": 85
        }
      },
      "source": [
        "### Object-level validation ###\n",
        "\n",
        "class EventSerializer(serializers.Serializer):\n",
        "    description = serializers.CharField(max_length=100)\n",
        "    start = serializers.DateTimeField()\n",
        "    finish = serializers.DateTimeField()\n",
        "\n",
        "    def validate(self, data):\n",
        "        \"\"\"\n",
        "        Check that start is before finish.\n",
        "        \"\"\"\n",
        "        if data['start'] > data['finish']:\n",
        "            raise serializers.ValidationError(\"finish must occur after start\")\n",
        "        return data\n",
        "    \n",
        "finish = datetime.now()\n",
        "start = datetime.now()\n",
        "event_data = {'description': 'desc', 'start': start, 'finish': finish}\n",
        "obj = EventSerializer(data=event_data)\n",
        "print(obj.is_valid())\n",
        "print(obj.errors)\n",
        "print(event_data['start'])\n",
        "print(event_data['finish'])"
      ],
      "execution_count": 0,
      "outputs": [
        {
          "output_type": "stream",
          "text": [
            "False\n",
            "{'non_field_errors': [ErrorDetail(string='finish must occur after start', code='invalid')]}\n",
            "2019-06-20 02:24:17.591964\n",
            "2019-06-20 02:24:17.591937\n"
          ],
          "name": "stdout"
        }
      ]
    },
    {
      "cell_type": "code",
      "metadata": {
        "id": "WH--K-2zhrFn",
        "colab_type": "code",
        "outputId": "35f97276-332a-4fe4-84a1-d9962c8cff2c",
        "colab": {
          "base_uri": "https://localhost:8080/",
          "height": 102
        }
      },
      "source": [
        "### Multiple validators ###\n",
        "\n",
        "def v1(value):\n",
        "    if 'django' not in value.lower():\n",
        "        raise serializers.ValidationError(\"Blog post is not about Django\")\n",
        "        \n",
        "def v2(value):\n",
        "    if 'flask' not in value.lower():\n",
        "        raise serializers.ValidationError(\"Blog post is not about Flask\")\n",
        "\n",
        "\n",
        "class BlogPostSerializer(serializers.Serializer):\n",
        "    title = serializers.CharField(max_length=100, validators=[v1, v2])\n",
        "    content = serializers.CharField()\n",
        "    \n",
        "blog_post_data = {'title': 'django_title', 'content': 'aaa'}\n",
        "obj = BlogPostSerializer(data=blog_post_data)\n",
        "print(obj.is_valid())\n",
        "print(obj.errors)\n",
        "\n",
        "blog_post_data = {'title': 'flask_title', 'content': 'aaa'}\n",
        "obj = BlogPostSerializer(data=blog_post_data)\n",
        "print(obj.is_valid())\n",
        "print(obj.errors)\n",
        "\n",
        "blog_post_data = {'title': 'flask_django_title', 'content': 'aaa'}\n",
        "obj = BlogPostSerializer(data=blog_post_data)\n",
        "print(obj.is_valid())"
      ],
      "execution_count": 0,
      "outputs": [
        {
          "output_type": "stream",
          "text": [
            "False\n",
            "{'title': [ErrorDetail(string='Blog post is not about Flask', code='invalid')]}\n",
            "False\n",
            "{'title': [ErrorDetail(string='Blog post is not about Django', code='invalid')]}\n",
            "True\n"
          ],
          "name": "stdout"
        }
      ]
    },
    {
      "cell_type": "markdown",
      "metadata": {
        "id": "hXJ9Ffv-ouSr",
        "colab_type": "text"
      },
      "source": [
        "# Accessing the initial data and instance"
      ]
    },
    {
      "cell_type": "code",
      "metadata": {
        "id": "INBBAQhFovoP",
        "colab_type": "code",
        "outputId": "fd7fc8df-cbd3-4a43-d6e4-2c49aa2318d1",
        "colab": {
          "base_uri": "https://localhost:8080/",
          "height": 34
        }
      },
      "source": [
        "### Init CommentSerializer by instance ###\n",
        "\n",
        "comment = Comment(email='leila@example.com', content='foo bar')\n",
        "serializer = CommentSerializer(comment)\n",
        "print(serializer.instance.email)"
      ],
      "execution_count": 0,
      "outputs": [
        {
          "output_type": "stream",
          "text": [
            "leila@example.com\n"
          ],
          "name": "stdout"
        }
      ]
    },
    {
      "cell_type": "code",
      "metadata": {
        "id": "Hj_2jSqHpwyH",
        "colab_type": "code",
        "outputId": "a73b28ed-537e-4ffd-9ac2-eb2cf58ed07d",
        "colab": {
          "base_uri": "https://localhost:8080/",
          "height": 51
        }
      },
      "source": [
        "### Init CommentSerializer by data ###\n",
        "\n",
        "comment_data = {'email': 'aa@gmail.com', 'content': 'content', 'created': datetime.now()}\n",
        "serializer = CommentSerializer(data=comment_data)\n",
        "print(serializer.initial_data)\n",
        "print(serializer.instance)"
      ],
      "execution_count": 0,
      "outputs": [
        {
          "output_type": "stream",
          "text": [
            "{'email': 'aa@gmail.com', 'content': 'content', 'created': datetime.datetime(2019, 6, 20, 2, 25, 16, 213430)}\n",
            "None\n"
          ],
          "name": "stdout"
        }
      ]
    },
    {
      "cell_type": "markdown",
      "metadata": {
        "id": "SDP2Gtelp-lq",
        "colab_type": "text"
      },
      "source": [
        "# Partial updates"
      ]
    },
    {
      "cell_type": "code",
      "metadata": {
        "id": "CCNSTt16qAY2",
        "colab_type": "code",
        "outputId": "3b9bff4a-1bf0-465e-be90-7627576ce210",
        "colab": {
          "base_uri": "https://localhost:8080/",
          "height": 51
        }
      },
      "source": [
        "comment = Comment(email='leila@example.com', content='foo bar')\n",
        "serializer = CommentSerializer(comment, data={'email': 'mac@google.com'}, partial=True)\n",
        "print(serializer.is_valid())\n",
        "serializer.save()\n",
        "print(serializer.data)"
      ],
      "execution_count": 0,
      "outputs": [
        {
          "output_type": "stream",
          "text": [
            "True\n",
            "{'email': 'mac@google.com', 'content': 'foo bar', 'created': '2019-06-20T02:26:04.479776'}\n"
          ],
          "name": "stdout"
        }
      ]
    },
    {
      "cell_type": "markdown",
      "metadata": {
        "id": "CR15NztP6haz",
        "colab_type": "text"
      },
      "source": [
        "# Dealing with nested objects"
      ]
    },
    {
      "cell_type": "code",
      "metadata": {
        "id": "VJmIqYyV6lrv",
        "colab_type": "code",
        "outputId": "c656d630-f3ea-413c-aa09-74bd394ec819",
        "colab": {
          "base_uri": "https://localhost:8080/",
          "height": 71
        }
      },
      "source": [
        "class User(object):\n",
        "    def __init__(self, email, username):\n",
        "        self.email = email\n",
        "        self.username = username\n",
        "        \n",
        "class Item(object):\n",
        "    def __init__(self, name):\n",
        "        self.name = name\n",
        "\n",
        "class Comment(object):\n",
        "    def __init__(self, user, items, content, created):\n",
        "        self.user = user\n",
        "        self.items = items\n",
        "        self.content = content\n",
        "        self.created = created\n",
        "        \n",
        "class UserSerializer(serializers.Serializer):\n",
        "    email = serializers.EmailField()\n",
        "    username = serializers.CharField(max_length=100)\n",
        "\n",
        "class ItemSerializer(serializers.Serializer):\n",
        "    name = serializers.CharField(max_length=100)\n",
        "\n",
        "class CommentSerializer(serializers.Serializer):\n",
        "    user = UserSerializer(required=False)\n",
        "    items = ItemSerializer(many=True)  # A nested list of 'edit' items.\n",
        "    content = serializers.CharField(max_length=200)\n",
        "    created = serializers.DateTimeField()\n",
        "    \n",
        "\n",
        "user = User('aa@google.com', 'aa_user')\n",
        "items = [Item('aa_item'), Item('bb_item')]\n",
        "comment = Comment(user, items, 'aa_content', datetime.now())\n",
        "comment_serializer = CommentSerializer(comment)\n",
        "print(comment_serializer.data)\n",
        "print(comment_serializer.data['items'])"
      ],
      "execution_count": 0,
      "outputs": [
        {
          "output_type": "stream",
          "text": [
            "{'user': OrderedDict([('email', 'aa@google.com'), ('username', 'aa_user')]), 'items': [OrderedDict([('name', 'aa_item')]), OrderedDict([('name', 'bb_item')])], 'content': 'aa_content', 'created': '2019-06-20T04:28:08.725899'}\n",
            "[OrderedDict([('name', 'aa_item')]), OrderedDict([('name', 'bb_item')])]\n"
          ],
          "name": "stdout"
        }
      ]
    },
    {
      "cell_type": "markdown",
      "metadata": {
        "id": "OyDQtCY5PJV_",
        "colab_type": "text"
      },
      "source": [
        "# Including extra context"
      ]
    },
    {
      "cell_type": "code",
      "metadata": {
        "id": "PtZokeLoNxOr",
        "colab_type": "code",
        "outputId": "e36c25b7-0b11-4c6e-9b5f-cfe5cebc33b0",
        "colab": {
          "base_uri": "https://localhost:8080/",
          "height": 51
        }
      },
      "source": [
        "import requests\n",
        "\n",
        "class Item(object):\n",
        "    def __init__(self, name):\n",
        "        self.name = name\n",
        "\n",
        "class ItemSerializer(serializers.Serializer):\n",
        "    name = serializers.CharField(max_length=100)\n",
        "    \n",
        "    def create(self, validated_data):\n",
        "        print(self.context)\n",
        "        return Item(**validated_data)\n",
        "    \n",
        "item_serializer = ItemSerializer(data={'name': 'abcde'}, context={'requests': requests})\n",
        "item_serializer.is_valid()\n",
        "item = item_serializer.save()\n",
        "item.name"
      ],
      "execution_count": 0,
      "outputs": [
        {
          "output_type": "stream",
          "text": [
            "{'requests': <module 'requests' from '/usr/local/lib/python3.6/dist-packages/requests/__init__.py'>}\n"
          ],
          "name": "stdout"
        },
        {
          "output_type": "execute_result",
          "data": {
            "text/plain": [
              "'abcde'"
            ]
          },
          "metadata": {
            "tags": []
          },
          "execution_count": 40
        }
      ]
    }
  ]
}