{
  "nbformat": 4,
  "nbformat_minor": 0,
  "metadata": {
    "colab": {
      "name": "cached_property.ipynb",
      "version": "0.3.2",
      "provenance": [],
      "toc_visible": true,
      "include_colab_link": true
    },
    "kernelspec": {
      "name": "python3",
      "display_name": "Python 3"
    }
  },
  "cells": [
    {
      "cell_type": "markdown",
      "metadata": {
        "id": "view-in-github",
        "colab_type": "text"
      },
      "source": [
        "<a href=\"https://colab.research.google.com/github/vanryuji/django/blob/master/cached_property/cached_property.ipynb\" target=\"_parent\"><img src=\"https://colab.research.google.com/assets/colab-badge.svg\" alt=\"Open In Colab\"/></a>"
      ]
    },
    {
      "cell_type": "code",
      "metadata": {
        "id": "6lpOktJZqPnV",
        "colab_type": "code",
        "outputId": "f3524c59-f119-468f-b086-e0dd010714b9",
        "colab": {
          "base_uri": "https://localhost:8080/",
          "height": 51
        }
      },
      "source": [
        "!python --version\n",
        "!pip list | grep Django"
      ],
      "execution_count": 5,
      "outputs": [
        {
          "output_type": "stream",
          "text": [
            "Python 3.6.7\n",
            "Django                   2.2.2                \n"
          ],
          "name": "stdout"
        }
      ]
    },
    {
      "cell_type": "code",
      "metadata": {
        "id": "dh_eBGP8nzgB",
        "colab_type": "code",
        "colab": {}
      },
      "source": [
        "from django.utils.timezone import datetime \n",
        "from django.utils.functional import cached_property"
      ],
      "execution_count": 0,
      "outputs": []
    },
    {
      "cell_type": "markdown",
      "metadata": {
        "id": "Su_16ChdnOD4",
        "colab_type": "text"
      },
      "source": [
        "# cached_property"
      ]
    },
    {
      "cell_type": "code",
      "metadata": {
        "id": "NbuMmWPjnNSa",
        "colab_type": "code",
        "outputId": "cd9e0ed3-6b64-46e8-942a-36002cfb5258",
        "colab": {
          "base_uri": "https://localhost:8080/",
          "height": 102
        }
      },
      "source": [
        "# cached_property\n",
        "\n",
        "class TodayWeather: \n",
        "    @cached_property \n",
        "    def weather(self): # 비싼 연산작업이 필요하고, 여러번 호출되는 값은 @cached_property으로 캐싱해두자! # ex. DB / ElasticSearch / API 통신 등.. \n",
        "        print('in weather()')\n",
        "        target_date = datetime.today()\n",
        "        weather = dict()\n",
        "        weather['temperature'] = 28\n",
        "        weather['rain_rate'] = 30\n",
        "        return weather \n",
        "    \n",
        "    @property \n",
        "    def temperature(self): \n",
        "        print('in temperature()')\n",
        "        self.weather['temperature'] \n",
        "        \n",
        "    @property \n",
        "    def rain_rate(self): \n",
        "        print('in rain_rate()')\n",
        "        self.weather['rain_rate'] \n",
        "        \n",
        "today_weather = TodayWeather() \n",
        "print(f'온도 : {today_weather.temperature}') \n",
        "print(f'비가 올 확률 : {today_weather.rain_rate}')\n"
      ],
      "execution_count": 7,
      "outputs": [
        {
          "output_type": "stream",
          "text": [
            "in temperature()\n",
            "in weather()\n",
            "온도 : None\n",
            "in rain_rate()\n",
            "비가 올 확률 : None\n"
          ],
          "name": "stdout"
        }
      ]
    },
    {
      "cell_type": "code",
      "metadata": {
        "id": "YhrLas7To9ZH",
        "colab_type": "code",
        "outputId": "514013d0-1598-4199-aaa3-e69ff313dd16",
        "colab": {
          "base_uri": "https://localhost:8080/",
          "height": 119
        }
      },
      "source": [
        "# not cached_property\n",
        "\n",
        "class TodayWeather: \n",
        "    @property \n",
        "    def weather(self): # 비싼 연산작업이 필요하고, 여러번 호출되는 값은 @cached_property으로 캐싱해두자! # ex. DB / ElasticSearch / API 통신 등.. \n",
        "        print('in weather()')\n",
        "        target_date = datetime.today()\n",
        "        weather = dict()\n",
        "        weather['temperature'] = 28\n",
        "        weather['rain_rate'] = 30\n",
        "        return weather \n",
        "    \n",
        "    @property \n",
        "    def temperature(self): \n",
        "        print('in temperature()')\n",
        "        self.weather['temperature'] \n",
        "        \n",
        "    @property \n",
        "    def rain_rate(self): \n",
        "        print('in rain_rate()')\n",
        "        self.weather['rain_rate'] \n",
        "        \n",
        "today_weather = TodayWeather() \n",
        "print(f'온도 : {today_weather.temperature}') \n",
        "print(f'비가 올 확률 : {today_weather.rain_rate}')\n"
      ],
      "execution_count": 8,
      "outputs": [
        {
          "output_type": "stream",
          "text": [
            "in temperature()\n",
            "in weather()\n",
            "온도 : None\n",
            "in rain_rate()\n",
            "in weather()\n",
            "비가 올 확률 : None\n"
          ],
          "name": "stdout"
        }
      ]
    }
  ]
}