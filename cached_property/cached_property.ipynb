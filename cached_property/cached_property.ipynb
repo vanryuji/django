{
  "nbformat": 4,
  "nbformat_minor": 0,
  "metadata": {
    "colab": {
      "name": "cached_property.ipynb",
      "version": "0.3.2",
      "provenance": [],
      "toc_visible": true,
      "include_colab_link": true
    },
    "kernelspec": {
      "name": "python3",
      "display_name": "Python 3"
    }
  },
  "cells": [
    {
      "cell_type": "markdown",
      "metadata": {
        "id": "view-in-github",
        "colab_type": "text"
      },
      "source": [
        "<a href=\"https://colab.research.google.com/github/vanryuji/django/blob/master/cached_property/cached_property.ipynb\" target=\"_parent\"><img src=\"https://colab.research.google.com/assets/colab-badge.svg\" alt=\"Open In Colab\"/></a>"
      ]
    },
    {
      "cell_type": "markdown",
      "metadata": {
        "id": "5p4SHsisJ6D4",
        "colab_type": "text"
      },
      "source": [
        "# property"
      ]
    },
    {
      "cell_type": "code",
      "metadata": {
        "id": "Im4S1Xm98qUp",
        "colab_type": "code",
        "colab": {
          "base_uri": "https://localhost:8080/",
          "height": 51
        },
        "outputId": "7c3b4935-b598-4ee6-8808-8a0b02a8b4e0"
      },
      "source": [
        "# test1\n",
        "\n",
        "class Celsius:\n",
        "    def __init__(self, temperature = 0):\n",
        "        self.temperature = temperature\n",
        "\n",
        "    def to_fahrenheit(self):\n",
        "        return (self.temperature * 1.8) + 32\n",
        "    \n",
        "    \n",
        "test1 = Celsius()\n",
        "test1.temperature = 37\n",
        "print(test1.temperature)\n",
        "print(test1.__dict__)"
      ],
      "execution_count": 4,
      "outputs": [
        {
          "output_type": "stream",
          "text": [
            "37\n",
            "{'temperature': 37}\n"
          ],
          "name": "stdout"
        }
      ]
    },
    {
      "cell_type": "code",
      "metadata": {
        "id": "TBhME41fGYPk",
        "colab_type": "code",
        "colab": {
          "base_uri": "https://localhost:8080/",
          "height": 385
        },
        "outputId": "c6926fe2-fcfb-434c-c2d7-eaa789a696d2"
      },
      "source": [
        "# test2\n",
        "\n",
        "class Celsius:\n",
        "    def __init__(self, temperature = 0):\n",
        "        self.set_temperature(temperature)\n",
        "\n",
        "    def to_fahrenheit(self):\n",
        "        return (self.get_temperature() * 1.8) + 32\n",
        "\n",
        "    # new update\n",
        "    def get_temperature(self):\n",
        "        return self._temperature\n",
        "\n",
        "    def set_temperature(self, value):\n",
        "        if value < -273:\n",
        "            raise ValueError(\"Temperature below -273 is not possible\")\n",
        "        self._temperature = value\n",
        "        \n",
        "        \n",
        "test2 = Celsius()        \n",
        "test2.set_temperature(10)\n",
        "print(test2.get_temperature())\n",
        "print(test2.__dict__)\n",
        "\n",
        "test2._temperature = 37\n",
        "\n",
        "print(test2._temperature)\n",
        "\n",
        "test2._temperature = -300\n",
        "print(test2._temperature)\n",
        "test2.set_temperature(-301)"
      ],
      "execution_count": 5,
      "outputs": [
        {
          "output_type": "stream",
          "text": [
            "10\n",
            "{'_temperature': 10}\n",
            "37\n",
            "-300\n"
          ],
          "name": "stdout"
        },
        {
          "output_type": "error",
          "ename": "ValueError",
          "evalue": "ignored",
          "traceback": [
            "\u001b[0;31m---------------------------------------------------------------------------\u001b[0m",
            "\u001b[0;31mValueError\u001b[0m                                Traceback (most recent call last)",
            "\u001b[0;32m<ipython-input-5-20d41141f2ed>\u001b[0m in \u001b[0;36m<module>\u001b[0;34m()\u001b[0m\n\u001b[1;32m     28\u001b[0m \u001b[0mtest2\u001b[0m\u001b[0;34m.\u001b[0m\u001b[0m_temperature\u001b[0m \u001b[0;34m=\u001b[0m \u001b[0;34m-\u001b[0m\u001b[0;36m300\u001b[0m\u001b[0;34m\u001b[0m\u001b[0;34m\u001b[0m\u001b[0m\n\u001b[1;32m     29\u001b[0m \u001b[0mprint\u001b[0m\u001b[0;34m(\u001b[0m\u001b[0mtest2\u001b[0m\u001b[0;34m.\u001b[0m\u001b[0m_temperature\u001b[0m\u001b[0;34m)\u001b[0m\u001b[0;34m\u001b[0m\u001b[0;34m\u001b[0m\u001b[0m\n\u001b[0;32m---> 30\u001b[0;31m \u001b[0mtest2\u001b[0m\u001b[0;34m.\u001b[0m\u001b[0mset_temperature\u001b[0m\u001b[0;34m(\u001b[0m\u001b[0;34m-\u001b[0m\u001b[0;36m301\u001b[0m\u001b[0;34m)\u001b[0m\u001b[0;34m\u001b[0m\u001b[0;34m\u001b[0m\u001b[0m\n\u001b[0m",
            "\u001b[0;32m<ipython-input-5-20d41141f2ed>\u001b[0m in \u001b[0;36mset_temperature\u001b[0;34m(self, value)\u001b[0m\n\u001b[1;32m     13\u001b[0m     \u001b[0;32mdef\u001b[0m \u001b[0mset_temperature\u001b[0m\u001b[0;34m(\u001b[0m\u001b[0mself\u001b[0m\u001b[0;34m,\u001b[0m \u001b[0mvalue\u001b[0m\u001b[0;34m)\u001b[0m\u001b[0;34m:\u001b[0m\u001b[0;34m\u001b[0m\u001b[0;34m\u001b[0m\u001b[0m\n\u001b[1;32m     14\u001b[0m         \u001b[0;32mif\u001b[0m \u001b[0mvalue\u001b[0m \u001b[0;34m<\u001b[0m \u001b[0;34m-\u001b[0m\u001b[0;36m273\u001b[0m\u001b[0;34m:\u001b[0m\u001b[0;34m\u001b[0m\u001b[0;34m\u001b[0m\u001b[0m\n\u001b[0;32m---> 15\u001b[0;31m             \u001b[0;32mraise\u001b[0m \u001b[0mValueError\u001b[0m\u001b[0;34m(\u001b[0m\u001b[0;34m\"Temperature below -273 is not possible\"\u001b[0m\u001b[0;34m)\u001b[0m\u001b[0;34m\u001b[0m\u001b[0;34m\u001b[0m\u001b[0m\n\u001b[0m\u001b[1;32m     16\u001b[0m         \u001b[0mself\u001b[0m\u001b[0;34m.\u001b[0m\u001b[0m_temperature\u001b[0m \u001b[0;34m=\u001b[0m \u001b[0mvalue\u001b[0m\u001b[0;34m\u001b[0m\u001b[0;34m\u001b[0m\u001b[0m\n\u001b[1;32m     17\u001b[0m \u001b[0;34m\u001b[0m\u001b[0m\n",
            "\u001b[0;31mValueError\u001b[0m: Temperature below -273 is not possible"
          ]
        }
      ]
    },
    {
      "cell_type": "code",
      "metadata": {
        "id": "WmQE0lkCGpJr",
        "colab_type": "code",
        "colab": {
          "base_uri": "https://localhost:8080/",
          "height": 170
        },
        "outputId": "a673a1b5-d338-4fe8-a90f-fed1c11c8578"
      },
      "source": [
        "# test3\n",
        "\n",
        "class Celsius:\n",
        "    def __init__(self, temperature = 0):\n",
        "        self.temperature = temperature\n",
        "\n",
        "    def to_fahrenheit(self):\n",
        "        return (self.temperature * 1.8) + 32\n",
        "\n",
        "    def get_temperature(self):\n",
        "        print(\"Getting value\")  # for debugging\n",
        "        return self._temperature\n",
        "\n",
        "    def set_temperature(self, value):\n",
        "        if value < -273:\n",
        "            raise ValueError(\"Temperature below -273 is not possible\")\n",
        "        print(\"Setting value\")  # for debugging\n",
        "        self._temperature = value\n",
        "\n",
        "    temperature = property(get_temperature,set_temperature)\n",
        "    \n",
        "\n",
        "test3 = Celsius()        \n",
        "test3.set_temperature(10)\n",
        "print(test3.get_temperature())\n",
        "print(test3.__dict__)\n",
        "\n",
        "test3._temperature = 37\n",
        "print(test3._temperature)\n",
        "\n",
        "test3.temperature = 37\n",
        "print(test3.temperature)"
      ],
      "execution_count": 6,
      "outputs": [
        {
          "output_type": "stream",
          "text": [
            "Setting value\n",
            "Setting value\n",
            "Getting value\n",
            "10\n",
            "{'_temperature': 10}\n",
            "37\n",
            "Setting value\n",
            "Getting value\n",
            "37\n"
          ],
          "name": "stdout"
        }
      ]
    },
    {
      "cell_type": "code",
      "metadata": {
        "id": "45i9aLb_kQQt",
        "colab_type": "code",
        "colab": {
          "base_uri": "https://localhost:8080/",
          "height": 85
        },
        "outputId": "0d0cc339-423e-4d8f-845d-c699b1e8f3f7"
      },
      "source": [
        "# test4\n",
        "\n",
        "class Celsius:\n",
        "    def __init__(self, temperature = 0):\n",
        "        self._temperature = temperature\n",
        "\n",
        "    def to_fahrenheit(self):\n",
        "        return (self.temperature * 1.8) + 32\n",
        "\n",
        "    @property\n",
        "    def temperature(self):\n",
        "        print(\"Getting value\")  # for debugging\n",
        "        return self._temperature\n",
        "\n",
        "    @temperature.setter\n",
        "    def temperature(self, value):\n",
        "        if value < -273:\n",
        "            raise ValueError(\"Temperature below -273 is not possible\")\n",
        "        print(\"Setting value\")  # for debugging\n",
        "        self._temperature = value\n",
        "        \n",
        "        \n",
        "test4 = Celsius()        \n",
        "test4.temperature = 10\n",
        "print(test4.temperature)\n",
        "print(test4.__dict__)"
      ],
      "execution_count": 7,
      "outputs": [
        {
          "output_type": "stream",
          "text": [
            "Setting value\n",
            "Getting value\n",
            "10\n",
            "{'_temperature': 10}\n"
          ],
          "name": "stdout"
        }
      ]
    },
    {
      "cell_type": "markdown",
      "metadata": {
        "id": "Su_16ChdnOD4",
        "colab_type": "text"
      },
      "source": [
        "# cached_property"
      ]
    },
    {
      "cell_type": "code",
      "metadata": {
        "id": "dh_eBGP8nzgB",
        "colab_type": "code",
        "colab": {}
      },
      "source": [
        "from django.utils.timezone import datetime \n",
        "from django.utils.functional import cached_property"
      ],
      "execution_count": 0,
      "outputs": []
    },
    {
      "cell_type": "code",
      "metadata": {
        "id": "NbuMmWPjnNSa",
        "colab_type": "code",
        "colab": {
          "base_uri": "https://localhost:8080/",
          "height": 102
        },
        "outputId": "dc5830da-6464-4dfd-811b-cdae6d3fc996"
      },
      "source": [
        "# cached_property\n",
        "\n",
        "class TodayWeather: \n",
        "    @cached_property \n",
        "    def weather(self): # 비싼 연산작업이 필요하고, 여러번 호출되는 값은 @cached_property으로 캐싱해두자! # ex. DB / ElasticSearch / API 통신 등.. \n",
        "        print('in weather()')\n",
        "        target_date = datetime.today()\n",
        "        weather = dict()\n",
        "        weather['temperature'] = 28\n",
        "        weather['rain_rate'] = 30\n",
        "        return weather \n",
        "    \n",
        "    @property \n",
        "    def temperature(self): \n",
        "        print('in temperature()')\n",
        "        self.weather['temperature'] \n",
        "        \n",
        "    @property \n",
        "    def rain_rate(self): \n",
        "        print('in rain_rate()')\n",
        "        self.weather['rain_rate'] \n",
        "        \n",
        "today_weather = TodayWeather() \n",
        "print(f'온도 : {today_weather.temperature}') \n",
        "print(f'비가 올 확률 : {today_weather.rain_rate}')\n"
      ],
      "execution_count": 9,
      "outputs": [
        {
          "output_type": "stream",
          "text": [
            "in temperature()\n",
            "in weather()\n",
            "온도 : None\n",
            "in rain_rate()\n",
            "비가 올 확률 : None\n"
          ],
          "name": "stdout"
        }
      ]
    },
    {
      "cell_type": "code",
      "metadata": {
        "id": "YhrLas7To9ZH",
        "colab_type": "code",
        "colab": {
          "base_uri": "https://localhost:8080/",
          "height": 119
        },
        "outputId": "4e7e4c10-bb44-436f-f49b-167aa937c746"
      },
      "source": [
        "# not cached_property\n",
        "\n",
        "class TodayWeather: \n",
        "    @property \n",
        "    def weather(self): # 비싼 연산작업이 필요하고, 여러번 호출되는 값은 @cached_property으로 캐싱해두자! # ex. DB / ElasticSearch / API 통신 등.. \n",
        "        print('in weather()')\n",
        "        target_date = datetime.today()\n",
        "        weather = dict()\n",
        "        weather['temperature'] = 28\n",
        "        weather['rain_rate'] = 30\n",
        "        return weather \n",
        "    \n",
        "    @property \n",
        "    def temperature(self): \n",
        "        print('in temperature()')\n",
        "        self.weather['temperature'] \n",
        "        \n",
        "    @property \n",
        "    def rain_rate(self): \n",
        "        print('in rain_rate()')\n",
        "        self.weather['rain_rate'] \n",
        "        \n",
        "today_weather = TodayWeather() \n",
        "print(f'온도 : {today_weather.temperature}') \n",
        "print(f'비가 올 확률 : {today_weather.rain_rate}')\n"
      ],
      "execution_count": 10,
      "outputs": [
        {
          "output_type": "stream",
          "text": [
            "in temperature()\n",
            "in weather()\n",
            "온도 : None\n",
            "in rain_rate()\n",
            "in weather()\n",
            "비가 올 확률 : None\n"
          ],
          "name": "stdout"
        }
      ]
    }
  ]
}